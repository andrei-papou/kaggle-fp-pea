{
 "cells": [
  {
   "cell_type": "code",
   "execution_count": 15,
   "metadata": {},
   "outputs": [],
   "source": [
    "import math\n",
    "import typing as t\n",
    "from pathlib import Path\n",
    "\n",
    "import pandas as pd\n",
    "from tqdm.notebook import tqdm"
   ]
  },
  {
   "cell_type": "code",
   "execution_count": 12,
   "metadata": {},
   "outputs": [],
   "source": [
    "tqdm.pandas()"
   ]
  },
  {
   "cell_type": "code",
   "execution_count": 2,
   "metadata": {},
   "outputs": [],
   "source": [
    "DATASET_DIR_PATH = Path('/root/data/datasets/fp-0p925')"
   ]
  },
  {
   "cell_type": "code",
   "execution_count": 3,
   "metadata": {},
   "outputs": [
    {
     "name": "stdout",
     "output_type": "stream",
     "text": [
      "total 353676\n",
      "drwxrwxr-x 2 root root      4096 Aug 11 14:03  .\n",
      "drwxrwxr-x 5 root root      4096 Aug 11 14:04  ..\n",
      "-rw-rw-r-- 1 root root 181093973 Jul 30 12:29  TRAIN_DB.csv\n",
      "-rw-r--r-- 1 root root  36381617 Aug 11 14:00 'prediction[0].csv'\n",
      "-rw-r--r-- 1 root root  37668899 Aug 11 14:01 'prediction[1].csv'\n",
      "-rw-r--r-- 1 root root  36260154 Aug 11 14:01 'prediction[2].csv'\n",
      "-rw-r--r-- 1 root root  35455520 Aug 11 14:02 'prediction[3].csv'\n",
      "-rw-r--r-- 1 root root  35278414 Aug 11 14:02 'prediction[4].csv'\n"
     ]
    }
   ],
   "source": [
    "!ls -la $DATASET_DIR_PATH"
   ]
  },
  {
   "cell_type": "code",
   "execution_count": 4,
   "metadata": {},
   "outputs": [],
   "source": [
    "train_db_df = pd.read_csv(DATASET_DIR_PATH / 'TRAIN_DB.csv')"
   ]
  },
  {
   "cell_type": "code",
   "execution_count": 31,
   "metadata": {},
   "outputs": [],
   "source": [
    "class _LogitToProbPeprocessor:\n",
    "    _COL_LIST = ['Ineffective', 'Adequate', 'Effective']\n",
    "\n",
    "    def __init__(self, col: str):\n",
    "        self._col = col\n",
    "\n",
    "    def __call__(self, row: t.Dict[str, float]) -> float:\n",
    "        return math.exp(row[self._col]) / sum([math.exp(row[col]) for col in self._COL_LIST])\n",
    "\n",
    "\n",
    "def create_pos_col(df: pd.DataFrame) -> pd.DataFrame:\n",
    "    df = df.copy()\n",
    "    df['pos'] = -1\n",
    "    for essay_id in tqdm(df['essay_id'].unique(), desc='Computing `pos` column'):\n",
    "        for i, disc_id in enumerate(df[df['essay_id'] == essay_id]['discourse_id'].tolist()):\n",
    "            df.loc[df['discourse_id'] == disc_id, 'pos'] = i\n",
    "    assert -1 not in set(df['pos'].unique())\n",
    "    return df\n",
    "\n",
    "\n",
    "def preprocess_pred_part(df: pd.DataFrame) -> pd.DataFrame:\n",
    "    df['score_ineffective'] = df.progress_apply(_LogitToProbPeprocessor('Ineffective'), axis=1)\n",
    "    df['score_adequate'] = df.progress_apply(_LogitToProbPeprocessor('Adequate'), axis=1)\n",
    "    df['score_effective'] = df.progress_apply(_LogitToProbPeprocessor('Effective'), axis=1)\n",
    "    df = create_pos_col(df)\n",
    "    return df\n",
    "\n",
    "\n",
    "def create_pred_df(dataset_dir_path: Path, num_folds: int) -> pd.DataFrame:\n",
    "    return pd.concat([\n",
    "        preprocess_pred_part(pd.read_csv(dataset_dir_path / f'prediction[{i}].csv'))\n",
    "        for i in range(num_folds)\n",
    "    ])"
   ]
  },
  {
   "cell_type": "code",
   "execution_count": 21,
   "metadata": {},
   "outputs": [
    {
     "data": {
      "application/vnd.jupyter.widget-view+json": {
       "model_id": "ad4405bacdbd40a291e19bdec5a2e064",
       "version_major": 2,
       "version_minor": 0
      },
      "text/plain": [
       "  0%|          | 0/6884 [00:00<?, ?it/s]"
      ]
     },
     "metadata": {},
     "output_type": "display_data"
    },
    {
     "data": {
      "application/vnd.jupyter.widget-view+json": {
       "model_id": "5eb16c48563d4c6eb714661d39e9ca75",
       "version_major": 2,
       "version_minor": 0
      },
      "text/plain": [
       "  0%|          | 0/6884 [00:00<?, ?it/s]"
      ]
     },
     "metadata": {},
     "output_type": "display_data"
    },
    {
     "data": {
      "application/vnd.jupyter.widget-view+json": {
       "model_id": "2818feb92de344ed8174482b5c1f8d26",
       "version_major": 2,
       "version_minor": 0
      },
      "text/plain": [
       "  0%|          | 0/6884 [00:00<?, ?it/s]"
      ]
     },
     "metadata": {},
     "output_type": "display_data"
    },
    {
     "data": {
      "application/vnd.jupyter.widget-view+json": {
       "model_id": "8a35bad0a5f44d2384ce51de7c56d85d",
       "version_major": 2,
       "version_minor": 0
      },
      "text/plain": [
       "Computing `pos` column:   0%|          | 0/773 [00:00<?, ?it/s]"
      ]
     },
     "metadata": {},
     "output_type": "display_data"
    },
    {
     "data": {
      "application/vnd.jupyter.widget-view+json": {
       "model_id": "1b36a973a4104bbcb840f7f22c85490c",
       "version_major": 2,
       "version_minor": 0
      },
      "text/plain": [
       "  0%|          | 0/6796 [00:00<?, ?it/s]"
      ]
     },
     "metadata": {},
     "output_type": "display_data"
    },
    {
     "data": {
      "application/vnd.jupyter.widget-view+json": {
       "model_id": "eab40a712c0e4535a495528f6b937b5f",
       "version_major": 2,
       "version_minor": 0
      },
      "text/plain": [
       "  0%|          | 0/6796 [00:00<?, ?it/s]"
      ]
     },
     "metadata": {},
     "output_type": "display_data"
    },
    {
     "data": {
      "application/vnd.jupyter.widget-view+json": {
       "model_id": "5b929ba2ec0a47c3a89e455cfb4804ab",
       "version_major": 2,
       "version_minor": 0
      },
      "text/plain": [
       "  0%|          | 0/6796 [00:00<?, ?it/s]"
      ]
     },
     "metadata": {},
     "output_type": "display_data"
    },
    {
     "data": {
      "application/vnd.jupyter.widget-view+json": {
       "model_id": "45012cf5f3154a7788adf46ad7ae93d8",
       "version_major": 2,
       "version_minor": 0
      },
      "text/plain": [
       "Computing `pos` column:   0%|          | 0/773 [00:00<?, ?it/s]"
      ]
     },
     "metadata": {},
     "output_type": "display_data"
    },
    {
     "data": {
      "application/vnd.jupyter.widget-view+json": {
       "model_id": "1dd5f26fe68040fc87597a7d88dc4bb1",
       "version_major": 2,
       "version_minor": 0
      },
      "text/plain": [
       "  0%|          | 0/6827 [00:00<?, ?it/s]"
      ]
     },
     "metadata": {},
     "output_type": "display_data"
    },
    {
     "data": {
      "application/vnd.jupyter.widget-view+json": {
       "model_id": "99c5180a8a4d4708a680af31cbd00d9d",
       "version_major": 2,
       "version_minor": 0
      },
      "text/plain": [
       "  0%|          | 0/6827 [00:00<?, ?it/s]"
      ]
     },
     "metadata": {},
     "output_type": "display_data"
    },
    {
     "data": {
      "application/vnd.jupyter.widget-view+json": {
       "model_id": "9ad0b81feaec49f28731a98139ba1197",
       "version_major": 2,
       "version_minor": 0
      },
      "text/plain": [
       "  0%|          | 0/6827 [00:00<?, ?it/s]"
      ]
     },
     "metadata": {},
     "output_type": "display_data"
    },
    {
     "data": {
      "application/vnd.jupyter.widget-view+json": {
       "model_id": "c4bcbd4c9a57448892c87253ab132255",
       "version_major": 2,
       "version_minor": 0
      },
      "text/plain": [
       "Computing `pos` column:   0%|          | 0/773 [00:00<?, ?it/s]"
      ]
     },
     "metadata": {},
     "output_type": "display_data"
    },
    {
     "data": {
      "application/vnd.jupyter.widget-view+json": {
       "model_id": "d6c2884d1bfe47d9b901a8026691a0df",
       "version_major": 2,
       "version_minor": 0
      },
      "text/plain": [
       "  0%|          | 0/6780 [00:00<?, ?it/s]"
      ]
     },
     "metadata": {},
     "output_type": "display_data"
    },
    {
     "data": {
      "application/vnd.jupyter.widget-view+json": {
       "model_id": "32bc3423b74545aaa26c7ede3e2ec28a",
       "version_major": 2,
       "version_minor": 0
      },
      "text/plain": [
       "  0%|          | 0/6780 [00:00<?, ?it/s]"
      ]
     },
     "metadata": {},
     "output_type": "display_data"
    },
    {
     "data": {
      "application/vnd.jupyter.widget-view+json": {
       "model_id": "987b41137127478abd8df5390b0875f7",
       "version_major": 2,
       "version_minor": 0
      },
      "text/plain": [
       "  0%|          | 0/6780 [00:00<?, ?it/s]"
      ]
     },
     "metadata": {},
     "output_type": "display_data"
    },
    {
     "data": {
      "application/vnd.jupyter.widget-view+json": {
       "model_id": "8411eeb1a83f46e5aeb51e22dee99358",
       "version_major": 2,
       "version_minor": 0
      },
      "text/plain": [
       "Computing `pos` column:   0%|          | 0/774 [00:00<?, ?it/s]"
      ]
     },
     "metadata": {},
     "output_type": "display_data"
    },
    {
     "data": {
      "application/vnd.jupyter.widget-view+json": {
       "model_id": "9e13d93976dd4103bee54c457209520f",
       "version_major": 2,
       "version_minor": 0
      },
      "text/plain": [
       "  0%|          | 0/6801 [00:00<?, ?it/s]"
      ]
     },
     "metadata": {},
     "output_type": "display_data"
    },
    {
     "data": {
      "application/vnd.jupyter.widget-view+json": {
       "model_id": "33ed534e084d4e50867fd6a2950e2e0b",
       "version_major": 2,
       "version_minor": 0
      },
      "text/plain": [
       "  0%|          | 0/6801 [00:00<?, ?it/s]"
      ]
     },
     "metadata": {},
     "output_type": "display_data"
    },
    {
     "data": {
      "application/vnd.jupyter.widget-view+json": {
       "model_id": "1bf7168c70cb4bbf90a78a4b8dfb0f92",
       "version_major": 2,
       "version_minor": 0
      },
      "text/plain": [
       "  0%|          | 0/6801 [00:00<?, ?it/s]"
      ]
     },
     "metadata": {},
     "output_type": "display_data"
    },
    {
     "data": {
      "application/vnd.jupyter.widget-view+json": {
       "model_id": "f82df4e6147149ac92230deda3112db6",
       "version_major": 2,
       "version_minor": 0
      },
      "text/plain": [
       "Computing `pos` column:   0%|          | 0/774 [00:00<?, ?it/s]"
      ]
     },
     "metadata": {},
     "output_type": "display_data"
    }
   ],
   "source": [
    "pred_df = create_pred_df(dataset_dir_path=DATASET_DIR_PATH, num_folds=5)"
   ]
  },
  {
   "cell_type": "code",
   "execution_count": 22,
   "metadata": {},
   "outputs": [
    {
     "data": {
      "text/html": [
       "<div>\n",
       "<style scoped>\n",
       "    .dataframe tbody tr th:only-of-type {\n",
       "        vertical-align: middle;\n",
       "    }\n",
       "\n",
       "    .dataframe tbody tr th {\n",
       "        vertical-align: top;\n",
       "    }\n",
       "\n",
       "    .dataframe thead th {\n",
       "        text-align: right;\n",
       "    }\n",
       "</style>\n",
       "<table border=\"1\" class=\"dataframe\">\n",
       "  <thead>\n",
       "    <tr style=\"text-align: right;\">\n",
       "      <th></th>\n",
       "      <th>discourse_id</th>\n",
       "      <th>essay_id</th>\n",
       "      <th>discourse_text</th>\n",
       "      <th>discourse_type</th>\n",
       "      <th>discourse_effectiveness</th>\n",
       "      <th>essay</th>\n",
       "      <th>before</th>\n",
       "      <th>after</th>\n",
       "      <th>label</th>\n",
       "      <th>fold</th>\n",
       "      <th>Ineffective</th>\n",
       "      <th>Adequate</th>\n",
       "      <th>Effective</th>\n",
       "      <th>score_ineffective</th>\n",
       "      <th>score_adequate</th>\n",
       "      <th>score_effective</th>\n",
       "      <th>pos</th>\n",
       "    </tr>\n",
       "  </thead>\n",
       "  <tbody>\n",
       "    <tr>\n",
       "      <th>0</th>\n",
       "      <td>0013cc385424</td>\n",
       "      <td>007ACE74B050</td>\n",
       "      <td>Hi, i'm Isaac, i'm going to be writing about h...</td>\n",
       "      <td>Lead</td>\n",
       "      <td>Adequate</td>\n",
       "      <td>Hi, i'm Isaac, i'm going to be writing about h...</td>\n",
       "      <td>NO</td>\n",
       "      <td>On my perspective, I think that the face is a ...</td>\n",
       "      <td>1</td>\n",
       "      <td>0</td>\n",
       "      <td>0.191439</td>\n",
       "      <td>2.382967</td>\n",
       "      <td>-1.575415</td>\n",
       "      <td>0.098817</td>\n",
       "      <td>0.884299</td>\n",
       "      <td>0.016885</td>\n",
       "      <td>0</td>\n",
       "    </tr>\n",
       "    <tr>\n",
       "      <th>1</th>\n",
       "      <td>9704a709b505</td>\n",
       "      <td>007ACE74B050</td>\n",
       "      <td>On my perspective, I think that the face is a ...</td>\n",
       "      <td>Position</td>\n",
       "      <td>Adequate</td>\n",
       "      <td>Hi, i'm Isaac, i'm going to be writing about h...</td>\n",
       "      <td>Hi, i'm Isaac, i'm going to be writing about h...</td>\n",
       "      <td>m\\n\\nI think that the face is a natural landfo...</td>\n",
       "      <td>1</td>\n",
       "      <td>0</td>\n",
       "      <td>0.267513</td>\n",
       "      <td>2.655187</td>\n",
       "      <td>-2.145237</td>\n",
       "      <td>0.083488</td>\n",
       "      <td>0.909034</td>\n",
       "      <td>0.007478</td>\n",
       "      <td>1</td>\n",
       "    </tr>\n",
       "    <tr>\n",
       "      <th>2</th>\n",
       "      <td>c22adee811b6</td>\n",
       "      <td>007ACE74B050</td>\n",
       "      <td>I think that the face is a natural landform be...</td>\n",
       "      <td>Claim</td>\n",
       "      <td>Adequate</td>\n",
       "      <td>Hi, i'm Isaac, i'm going to be writing about h...</td>\n",
       "      <td>Hi, i'm Isaac, i'm going to be writing about h...</td>\n",
       "      <td>se next few paragraphs, I'll be talking about ...</td>\n",
       "      <td>1</td>\n",
       "      <td>0</td>\n",
       "      <td>0.504716</td>\n",
       "      <td>2.831645</td>\n",
       "      <td>-2.550461</td>\n",
       "      <td>0.088546</td>\n",
       "      <td>0.907282</td>\n",
       "      <td>0.004172</td>\n",
       "      <td>2</td>\n",
       "    </tr>\n",
       "    <tr>\n",
       "      <th>3</th>\n",
       "      <td>a10d361e54e4</td>\n",
       "      <td>007ACE74B050</td>\n",
       "      <td>If life was on Mars, we would know by now. The...</td>\n",
       "      <td>Evidence</td>\n",
       "      <td>Adequate</td>\n",
       "      <td>Hi, i'm Isaac, i'm going to be writing about h...</td>\n",
       "      <td>Hi, i'm Isaac, i'm going to be writing about h...</td>\n",
       "      <td>.\\n\\nPeople thought that the face was formed b...</td>\n",
       "      <td>1</td>\n",
       "      <td>0</td>\n",
       "      <td>1.570769</td>\n",
       "      <td>2.148782</td>\n",
       "      <td>-3.007700</td>\n",
       "      <td>0.358068</td>\n",
       "      <td>0.638254</td>\n",
       "      <td>0.003678</td>\n",
       "      <td>3</td>\n",
       "    </tr>\n",
       "    <tr>\n",
       "      <th>4</th>\n",
       "      <td>db3e453ec4e2</td>\n",
       "      <td>007ACE74B050</td>\n",
       "      <td>People thought that the face was formed by ali...</td>\n",
       "      <td>Counterclaim</td>\n",
       "      <td>Adequate</td>\n",
       "      <td>Hi, i'm Isaac, i'm going to be writing about h...</td>\n",
       "      <td>Hi, i'm Isaac, i'm going to be writing about h...</td>\n",
       "      <td>though some say that life on Mars does exist, ...</td>\n",
       "      <td>1</td>\n",
       "      <td>0</td>\n",
       "      <td>1.441342</td>\n",
       "      <td>2.352720</td>\n",
       "      <td>-3.164890</td>\n",
       "      <td>0.285899</td>\n",
       "      <td>0.711245</td>\n",
       "      <td>0.002856</td>\n",
       "      <td>4</td>\n",
       "    </tr>\n",
       "    <tr>\n",
       "      <th>...</th>\n",
       "      <td>...</td>\n",
       "      <td>...</td>\n",
       "      <td>...</td>\n",
       "      <td>...</td>\n",
       "      <td>...</td>\n",
       "      <td>...</td>\n",
       "      <td>...</td>\n",
       "      <td>...</td>\n",
       "      <td>...</td>\n",
       "      <td>...</td>\n",
       "      <td>...</td>\n",
       "      <td>...</td>\n",
       "      <td>...</td>\n",
       "      <td>...</td>\n",
       "      <td>...</td>\n",
       "      <td>...</td>\n",
       "      <td>...</td>\n",
       "    </tr>\n",
       "    <tr>\n",
       "      <th>6796</th>\n",
       "      <td>9f63b687e76a</td>\n",
       "      <td>FFA381E58FC6</td>\n",
       "      <td>For many people they don't like only asking on...</td>\n",
       "      <td>Claim</td>\n",
       "      <td>Adequate</td>\n",
       "      <td>Some people may ask multiple people for advice...</td>\n",
       "      <td>Some people may ask multiple people for advice...</td>\n",
       "      <td>e, also people have different views and opinio...</td>\n",
       "      <td>1</td>\n",
       "      <td>4</td>\n",
       "      <td>-1.096351</td>\n",
       "      <td>2.255865</td>\n",
       "      <td>-0.321535</td>\n",
       "      <td>0.031510</td>\n",
       "      <td>0.900108</td>\n",
       "      <td>0.068382</td>\n",
       "      <td>0</td>\n",
       "    </tr>\n",
       "    <tr>\n",
       "      <th>6797</th>\n",
       "      <td>9d5bd7d86212</td>\n",
       "      <td>FFA381E58FC6</td>\n",
       "      <td>also people have different views and opinions ...</td>\n",
       "      <td>Claim</td>\n",
       "      <td>Adequate</td>\n",
       "      <td>Some people may ask multiple people for advice...</td>\n",
       "      <td>Some people may ask multiple people for advice...</td>\n",
       "      <td>.\\n\\nAdvice is something that can impact a per...</td>\n",
       "      <td>1</td>\n",
       "      <td>4</td>\n",
       "      <td>-0.182667</td>\n",
       "      <td>2.381543</td>\n",
       "      <td>-1.295477</td>\n",
       "      <td>0.069837</td>\n",
       "      <td>0.907212</td>\n",
       "      <td>0.022951</td>\n",
       "      <td>1</td>\n",
       "    </tr>\n",
       "    <tr>\n",
       "      <th>6798</th>\n",
       "      <td>f1b78becd573</td>\n",
       "      <td>FFA381E58FC6</td>\n",
       "      <td>Advice is something that can impact a persons ...</td>\n",
       "      <td>Position</td>\n",
       "      <td>Adequate</td>\n",
       "      <td>Some people may ask multiple people for advice...</td>\n",
       "      <td>Some people may ask multiple people for advice...</td>\n",
       "      <td>y.\\n\\nSpeaking to more than one person to get ...</td>\n",
       "      <td>1</td>\n",
       "      <td>4</td>\n",
       "      <td>0.799952</td>\n",
       "      <td>1.667235</td>\n",
       "      <td>-1.870000</td>\n",
       "      <td>0.289881</td>\n",
       "      <td>0.690043</td>\n",
       "      <td>0.020076</td>\n",
       "      <td>2</td>\n",
       "    </tr>\n",
       "    <tr>\n",
       "      <th>6799</th>\n",
       "      <td>cc184624ca8e</td>\n",
       "      <td>FFA381E58FC6</td>\n",
       "      <td>someone can use everything that many people sa...</td>\n",
       "      <td>Evidence</td>\n",
       "      <td>Ineffective</td>\n",
       "      <td>Some people may ask multiple people for advice...</td>\n",
       "      <td>Some people may ask multiple people for advice...</td>\n",
       "      <td>y. In conclusion asking for an opinion can be ...</td>\n",
       "      <td>0</td>\n",
       "      <td>4</td>\n",
       "      <td>0.478447</td>\n",
       "      <td>1.551168</td>\n",
       "      <td>-1.065458</td>\n",
       "      <td>0.241729</td>\n",
       "      <td>0.706651</td>\n",
       "      <td>0.051620</td>\n",
       "      <td>3</td>\n",
       "    </tr>\n",
       "    <tr>\n",
       "      <th>6800</th>\n",
       "      <td>c8a973681feb</td>\n",
       "      <td>FFA381E58FC6</td>\n",
       "      <td>In conclusion asking for an opinion can be ben...</td>\n",
       "      <td>Concluding Statement</td>\n",
       "      <td>Ineffective</td>\n",
       "      <td>Some people may ask multiple people for advice...</td>\n",
       "      <td>Some people may ask multiple people for advice...</td>\n",
       "      <td>NO</td>\n",
       "      <td>0</td>\n",
       "      <td>4</td>\n",
       "      <td>1.205448</td>\n",
       "      <td>2.112818</td>\n",
       "      <td>-2.701177</td>\n",
       "      <td>0.285885</td>\n",
       "      <td>0.708366</td>\n",
       "      <td>0.005749</td>\n",
       "      <td>4</td>\n",
       "    </tr>\n",
       "  </tbody>\n",
       "</table>\n",
       "<p>34088 rows × 17 columns</p>\n",
       "</div>"
      ],
      "text/plain": [
       "      discourse_id      essay_id  \\\n",
       "0     0013cc385424  007ACE74B050   \n",
       "1     9704a709b505  007ACE74B050   \n",
       "2     c22adee811b6  007ACE74B050   \n",
       "3     a10d361e54e4  007ACE74B050   \n",
       "4     db3e453ec4e2  007ACE74B050   \n",
       "...            ...           ...   \n",
       "6796  9f63b687e76a  FFA381E58FC6   \n",
       "6797  9d5bd7d86212  FFA381E58FC6   \n",
       "6798  f1b78becd573  FFA381E58FC6   \n",
       "6799  cc184624ca8e  FFA381E58FC6   \n",
       "6800  c8a973681feb  FFA381E58FC6   \n",
       "\n",
       "                                         discourse_text        discourse_type  \\\n",
       "0     Hi, i'm Isaac, i'm going to be writing about h...                  Lead   \n",
       "1     On my perspective, I think that the face is a ...              Position   \n",
       "2     I think that the face is a natural landform be...                 Claim   \n",
       "3     If life was on Mars, we would know by now. The...              Evidence   \n",
       "4     People thought that the face was formed by ali...          Counterclaim   \n",
       "...                                                 ...                   ...   \n",
       "6796  For many people they don't like only asking on...                 Claim   \n",
       "6797  also people have different views and opinions ...                 Claim   \n",
       "6798  Advice is something that can impact a persons ...              Position   \n",
       "6799  someone can use everything that many people sa...              Evidence   \n",
       "6800  In conclusion asking for an opinion can be ben...  Concluding Statement   \n",
       "\n",
       "     discourse_effectiveness  \\\n",
       "0                   Adequate   \n",
       "1                   Adequate   \n",
       "2                   Adequate   \n",
       "3                   Adequate   \n",
       "4                   Adequate   \n",
       "...                      ...   \n",
       "6796                Adequate   \n",
       "6797                Adequate   \n",
       "6798                Adequate   \n",
       "6799             Ineffective   \n",
       "6800             Ineffective   \n",
       "\n",
       "                                                  essay  \\\n",
       "0     Hi, i'm Isaac, i'm going to be writing about h...   \n",
       "1     Hi, i'm Isaac, i'm going to be writing about h...   \n",
       "2     Hi, i'm Isaac, i'm going to be writing about h...   \n",
       "3     Hi, i'm Isaac, i'm going to be writing about h...   \n",
       "4     Hi, i'm Isaac, i'm going to be writing about h...   \n",
       "...                                                 ...   \n",
       "6796  Some people may ask multiple people for advice...   \n",
       "6797  Some people may ask multiple people for advice...   \n",
       "6798  Some people may ask multiple people for advice...   \n",
       "6799  Some people may ask multiple people for advice...   \n",
       "6800  Some people may ask multiple people for advice...   \n",
       "\n",
       "                                                 before  \\\n",
       "0                                                    NO   \n",
       "1     Hi, i'm Isaac, i'm going to be writing about h...   \n",
       "2     Hi, i'm Isaac, i'm going to be writing about h...   \n",
       "3     Hi, i'm Isaac, i'm going to be writing about h...   \n",
       "4     Hi, i'm Isaac, i'm going to be writing about h...   \n",
       "...                                                 ...   \n",
       "6796  Some people may ask multiple people for advice...   \n",
       "6797  Some people may ask multiple people for advice...   \n",
       "6798  Some people may ask multiple people for advice...   \n",
       "6799  Some people may ask multiple people for advice...   \n",
       "6800  Some people may ask multiple people for advice...   \n",
       "\n",
       "                                                  after  label  fold  \\\n",
       "0     On my perspective, I think that the face is a ...      1     0   \n",
       "1     m\\n\\nI think that the face is a natural landfo...      1     0   \n",
       "2     se next few paragraphs, I'll be talking about ...      1     0   \n",
       "3     .\\n\\nPeople thought that the face was formed b...      1     0   \n",
       "4     though some say that life on Mars does exist, ...      1     0   \n",
       "...                                                 ...    ...   ...   \n",
       "6796  e, also people have different views and opinio...      1     4   \n",
       "6797  .\\n\\nAdvice is something that can impact a per...      1     4   \n",
       "6798  y.\\n\\nSpeaking to more than one person to get ...      1     4   \n",
       "6799  y. In conclusion asking for an opinion can be ...      0     4   \n",
       "6800                                                 NO      0     4   \n",
       "\n",
       "      Ineffective  Adequate  Effective  score_ineffective  score_adequate  \\\n",
       "0        0.191439  2.382967  -1.575415           0.098817        0.884299   \n",
       "1        0.267513  2.655187  -2.145237           0.083488        0.909034   \n",
       "2        0.504716  2.831645  -2.550461           0.088546        0.907282   \n",
       "3        1.570769  2.148782  -3.007700           0.358068        0.638254   \n",
       "4        1.441342  2.352720  -3.164890           0.285899        0.711245   \n",
       "...           ...       ...        ...                ...             ...   \n",
       "6796    -1.096351  2.255865  -0.321535           0.031510        0.900108   \n",
       "6797    -0.182667  2.381543  -1.295477           0.069837        0.907212   \n",
       "6798     0.799952  1.667235  -1.870000           0.289881        0.690043   \n",
       "6799     0.478447  1.551168  -1.065458           0.241729        0.706651   \n",
       "6800     1.205448  2.112818  -2.701177           0.285885        0.708366   \n",
       "\n",
       "      score_effective  pos  \n",
       "0            0.016885    0  \n",
       "1            0.007478    1  \n",
       "2            0.004172    2  \n",
       "3            0.003678    3  \n",
       "4            0.002856    4  \n",
       "...               ...  ...  \n",
       "6796         0.068382    0  \n",
       "6797         0.022951    1  \n",
       "6798         0.020076    2  \n",
       "6799         0.051620    3  \n",
       "6800         0.005749    4  \n",
       "\n",
       "[34088 rows x 17 columns]"
      ]
     },
     "execution_count": 22,
     "metadata": {},
     "output_type": "execute_result"
    }
   ],
   "source": [
    "pred_df"
   ]
  },
  {
   "cell_type": "code",
   "execution_count": 23,
   "metadata": {},
   "outputs": [],
   "source": [
    "pred_df.to_csv(DATASET_DIR_PATH / 'train_meta.csv', index=False)"
   ]
  },
  {
   "cell_type": "code",
   "execution_count": 36,
   "metadata": {},
   "outputs": [],
   "source": [
    "test_db_df = pd.read_csv(DATASET_DIR_PATH / 'TEST_DB.csv')\n",
    "test_pred_df = pd.read_csv(DATASET_DIR_PATH / 'predicted_test_by_v5DBlS42.csv')"
   ]
  },
  {
   "cell_type": "code",
   "execution_count": 37,
   "metadata": {},
   "outputs": [],
   "source": [
    "test_meta_df = test_db_df.merge(test_pred_df, left_on='discourse_id', right_on='discourse_id')"
   ]
  },
  {
   "cell_type": "code",
   "execution_count": 38,
   "metadata": {},
   "outputs": [
    {
     "data": {
      "application/vnd.jupyter.widget-view+json": {
       "model_id": "914ed56a977e4dafa0f59c0b95e287b9",
       "version_major": 2,
       "version_minor": 0
      },
      "text/plain": [
       "Computing `pos` column:   0%|          | 0/324 [00:00<?, ?it/s]"
      ]
     },
     "metadata": {},
     "output_type": "display_data"
    }
   ],
   "source": [
    "test_meta_df = create_pos_col(test_meta_df)\n",
    "test_meta_df = test_meta_df.rename({\n",
    "    'Ineffective': 'score_ineffective',\n",
    "    'Adequate': 'score_adequate',\n",
    "    'Effective': 'score_effective',\n",
    "}, axis=1)"
   ]
  },
  {
   "cell_type": "code",
   "execution_count": 39,
   "metadata": {},
   "outputs": [
    {
     "data": {
      "text/html": [
       "<div>\n",
       "<style scoped>\n",
       "    .dataframe tbody tr th:only-of-type {\n",
       "        vertical-align: middle;\n",
       "    }\n",
       "\n",
       "    .dataframe tbody tr th {\n",
       "        vertical-align: top;\n",
       "    }\n",
       "\n",
       "    .dataframe thead th {\n",
       "        text-align: right;\n",
       "    }\n",
       "</style>\n",
       "<table border=\"1\" class=\"dataframe\">\n",
       "  <thead>\n",
       "    <tr style=\"text-align: right;\">\n",
       "      <th></th>\n",
       "      <th>discourse_id</th>\n",
       "      <th>essay_id</th>\n",
       "      <th>discourse_text</th>\n",
       "      <th>discourse_type</th>\n",
       "      <th>discourse_effectiveness</th>\n",
       "      <th>essay</th>\n",
       "      <th>before</th>\n",
       "      <th>after</th>\n",
       "      <th>score_ineffective</th>\n",
       "      <th>score_adequate</th>\n",
       "      <th>score_effective</th>\n",
       "      <th>pos</th>\n",
       "    </tr>\n",
       "  </thead>\n",
       "  <tbody>\n",
       "    <tr>\n",
       "      <th>0</th>\n",
       "      <td>ba3f708db030</td>\n",
       "      <td>02A3E737A10F</td>\n",
       "      <td>Students shouldn't have to participate in one ...</td>\n",
       "      <td>Position</td>\n",
       "      <td>Adequate</td>\n",
       "      <td>Students shouldn't have to participate in one ...</td>\n",
       "      <td>NO</td>\n",
       "      <td>\\nStudents have other things to do at home. Ma...</td>\n",
       "      <td>0.083901</td>\n",
       "      <td>0.879126</td>\n",
       "      <td>0.036973</td>\n",
       "      <td>0</td>\n",
       "    </tr>\n",
       "    <tr>\n",
       "      <th>1</th>\n",
       "      <td>efeb7a805421</td>\n",
       "      <td>02A3E737A10F</td>\n",
       "      <td>Students have other things to do at home</td>\n",
       "      <td>Claim</td>\n",
       "      <td>Adequate</td>\n",
       "      <td>Students shouldn't have to participate in one ...</td>\n",
       "      <td>Students shouldn't have to participate in one ...</td>\n",
       "      <td>. Many students have a lot of things to do at ...</td>\n",
       "      <td>0.031914</td>\n",
       "      <td>0.915504</td>\n",
       "      <td>0.052582</td>\n",
       "      <td>1</td>\n",
       "    </tr>\n",
       "    <tr>\n",
       "      <th>2</th>\n",
       "      <td>03205305e7bd</td>\n",
       "      <td>02A3E737A10F</td>\n",
       "      <td>Many students have a lot of things to do at ho...</td>\n",
       "      <td>Evidence</td>\n",
       "      <td>Effective</td>\n",
       "      <td>Students shouldn't have to participate in one ...</td>\n",
       "      <td>Students shouldn't have to participate in one ...</td>\n",
       "      <td>I disagree with the principal that every stude...</td>\n",
       "      <td>0.027744</td>\n",
       "      <td>0.464655</td>\n",
       "      <td>0.507601</td>\n",
       "      <td>2</td>\n",
       "    </tr>\n",
       "    <tr>\n",
       "      <th>3</th>\n",
       "      <td>e0c8f73f08a4</td>\n",
       "      <td>02A3E737A10F</td>\n",
       "      <td>I disagree with the principal that every stude...</td>\n",
       "      <td>Claim</td>\n",
       "      <td>Adequate</td>\n",
       "      <td>Students shouldn't have to participate in one ...</td>\n",
       "      <td>Students shouldn't have to participate in one ...</td>\n",
       "      <td>Some kids just want to go home and relax a bit...</td>\n",
       "      <td>0.041492</td>\n",
       "      <td>0.835423</td>\n",
       "      <td>0.123085</td>\n",
       "      <td>3</td>\n",
       "    </tr>\n",
       "    <tr>\n",
       "      <th>4</th>\n",
       "      <td>0d1e519f6453</td>\n",
       "      <td>02A3E737A10F</td>\n",
       "      <td>Some kids just want to go home and relax a bit...</td>\n",
       "      <td>Claim</td>\n",
       "      <td>Adequate</td>\n",
       "      <td>Students shouldn't have to participate in one ...</td>\n",
       "      <td>Students shouldn't have to participate in one ...</td>\n",
       "      <td>I think that students don't need to participat...</td>\n",
       "      <td>0.030051</td>\n",
       "      <td>0.879841</td>\n",
       "      <td>0.090108</td>\n",
       "      <td>4</td>\n",
       "    </tr>\n",
       "    <tr>\n",
       "      <th>...</th>\n",
       "      <td>...</td>\n",
       "      <td>...</td>\n",
       "      <td>...</td>\n",
       "      <td>...</td>\n",
       "      <td>...</td>\n",
       "      <td>...</td>\n",
       "      <td>...</td>\n",
       "      <td>...</td>\n",
       "      <td>...</td>\n",
       "      <td>...</td>\n",
       "      <td>...</td>\n",
       "      <td>...</td>\n",
       "    </tr>\n",
       "    <tr>\n",
       "      <th>2664</th>\n",
       "      <td>c351cd6214d7</td>\n",
       "      <td>FAA9FC1B315B</td>\n",
       "      <td>The second reason why I disagree and I really ...</td>\n",
       "      <td>Claim</td>\n",
       "      <td>Adequate</td>\n",
       "      <td>In my personal opinion when some schools offer...</td>\n",
       "      <td>In my personal opinion when some schools offer...</td>\n",
       "      <td>Here in school we do so much activities connec...</td>\n",
       "      <td>0.066995</td>\n",
       "      <td>0.872957</td>\n",
       "      <td>0.060047</td>\n",
       "      <td>4</td>\n",
       "    </tr>\n",
       "    <tr>\n",
       "      <th>2665</th>\n",
       "      <td>b6cb9c9a873c</td>\n",
       "      <td>FAA9FC1B315B</td>\n",
       "      <td>Here in school we do so much activities connec...</td>\n",
       "      <td>Evidence</td>\n",
       "      <td>Adequate</td>\n",
       "      <td>In my personal opinion when some schools offer...</td>\n",
       "      <td>In my personal opinion when some schools offer...</td>\n",
       "      <td>on.\\n\\nMy last and final reason is that you mi...</td>\n",
       "      <td>0.125136</td>\n",
       "      <td>0.830194</td>\n",
       "      <td>0.044670</td>\n",
       "      <td>5</td>\n",
       "    </tr>\n",
       "    <tr>\n",
       "      <th>2666</th>\n",
       "      <td>2adbc4226dbc</td>\n",
       "      <td>FAA9FC1B315B</td>\n",
       "      <td>My last and final reason is that you might get...</td>\n",
       "      <td>Claim</td>\n",
       "      <td>Adequate</td>\n",
       "      <td>In my personal opinion when some schools offer...</td>\n",
       "      <td>In my personal opinion when some schools offer...</td>\n",
       "      <td>. That might affect your grade too which is ve...</td>\n",
       "      <td>0.031974</td>\n",
       "      <td>0.934834</td>\n",
       "      <td>0.033193</td>\n",
       "      <td>6</td>\n",
       "    </tr>\n",
       "    <tr>\n",
       "      <th>2667</th>\n",
       "      <td>31e16304039d</td>\n",
       "      <td>FAA9FC1B315B</td>\n",
       "      <td>That might affect your grade too which is very...</td>\n",
       "      <td>Evidence</td>\n",
       "      <td>Adequate</td>\n",
       "      <td>In my personal opinion when some schools offer...</td>\n",
       "      <td>In my personal opinion when some schools offer...</td>\n",
       "      <td>y.\\n\\nThose are my good reason why i don't agr...</td>\n",
       "      <td>0.088147</td>\n",
       "      <td>0.851548</td>\n",
       "      <td>0.060305</td>\n",
       "      <td>7</td>\n",
       "    </tr>\n",
       "    <tr>\n",
       "      <th>2668</th>\n",
       "      <td>3e42be96d2f6</td>\n",
       "      <td>FAA9FC1B315B</td>\n",
       "      <td>Those are my good reason why i don't agree wit...</td>\n",
       "      <td>Concluding Statement</td>\n",
       "      <td>Adequate</td>\n",
       "      <td>In my personal opinion when some schools offer...</td>\n",
       "      <td>In my personal opinion when some schools offer...</td>\n",
       "      <td></td>\n",
       "      <td>0.187084</td>\n",
       "      <td>0.795535</td>\n",
       "      <td>0.017381</td>\n",
       "      <td>8</td>\n",
       "    </tr>\n",
       "  </tbody>\n",
       "</table>\n",
       "<p>2669 rows × 12 columns</p>\n",
       "</div>"
      ],
      "text/plain": [
       "      discourse_id      essay_id  \\\n",
       "0     ba3f708db030  02A3E737A10F   \n",
       "1     efeb7a805421  02A3E737A10F   \n",
       "2     03205305e7bd  02A3E737A10F   \n",
       "3     e0c8f73f08a4  02A3E737A10F   \n",
       "4     0d1e519f6453  02A3E737A10F   \n",
       "...            ...           ...   \n",
       "2664  c351cd6214d7  FAA9FC1B315B   \n",
       "2665  b6cb9c9a873c  FAA9FC1B315B   \n",
       "2666  2adbc4226dbc  FAA9FC1B315B   \n",
       "2667  31e16304039d  FAA9FC1B315B   \n",
       "2668  3e42be96d2f6  FAA9FC1B315B   \n",
       "\n",
       "                                         discourse_text        discourse_type  \\\n",
       "0     Students shouldn't have to participate in one ...              Position   \n",
       "1             Students have other things to do at home                  Claim   \n",
       "2     Many students have a lot of things to do at ho...              Evidence   \n",
       "3     I disagree with the principal that every stude...                 Claim   \n",
       "4     Some kids just want to go home and relax a bit...                 Claim   \n",
       "...                                                 ...                   ...   \n",
       "2664  The second reason why I disagree and I really ...                 Claim   \n",
       "2665  Here in school we do so much activities connec...              Evidence   \n",
       "2666  My last and final reason is that you might get...                 Claim   \n",
       "2667  That might affect your grade too which is very...              Evidence   \n",
       "2668  Those are my good reason why i don't agree wit...  Concluding Statement   \n",
       "\n",
       "     discourse_effectiveness  \\\n",
       "0                   Adequate   \n",
       "1                   Adequate   \n",
       "2                  Effective   \n",
       "3                   Adequate   \n",
       "4                   Adequate   \n",
       "...                      ...   \n",
       "2664                Adequate   \n",
       "2665                Adequate   \n",
       "2666                Adequate   \n",
       "2667                Adequate   \n",
       "2668                Adequate   \n",
       "\n",
       "                                                  essay  \\\n",
       "0     Students shouldn't have to participate in one ...   \n",
       "1     Students shouldn't have to participate in one ...   \n",
       "2     Students shouldn't have to participate in one ...   \n",
       "3     Students shouldn't have to participate in one ...   \n",
       "4     Students shouldn't have to participate in one ...   \n",
       "...                                                 ...   \n",
       "2664  In my personal opinion when some schools offer...   \n",
       "2665  In my personal opinion when some schools offer...   \n",
       "2666  In my personal opinion when some schools offer...   \n",
       "2667  In my personal opinion when some schools offer...   \n",
       "2668  In my personal opinion when some schools offer...   \n",
       "\n",
       "                                                 before  \\\n",
       "0                                                    NO   \n",
       "1     Students shouldn't have to participate in one ...   \n",
       "2     Students shouldn't have to participate in one ...   \n",
       "3     Students shouldn't have to participate in one ...   \n",
       "4     Students shouldn't have to participate in one ...   \n",
       "...                                                 ...   \n",
       "2664  In my personal opinion when some schools offer...   \n",
       "2665  In my personal opinion when some schools offer...   \n",
       "2666  In my personal opinion when some schools offer...   \n",
       "2667  In my personal opinion when some schools offer...   \n",
       "2668  In my personal opinion when some schools offer...   \n",
       "\n",
       "                                                  after  score_ineffective  \\\n",
       "0     \\nStudents have other things to do at home. Ma...           0.083901   \n",
       "1     . Many students have a lot of things to do at ...           0.031914   \n",
       "2     I disagree with the principal that every stude...           0.027744   \n",
       "3     Some kids just want to go home and relax a bit...           0.041492   \n",
       "4     I think that students don't need to participat...           0.030051   \n",
       "...                                                 ...                ...   \n",
       "2664  Here in school we do so much activities connec...           0.066995   \n",
       "2665  on.\\n\\nMy last and final reason is that you mi...           0.125136   \n",
       "2666  . That might affect your grade too which is ve...           0.031974   \n",
       "2667  y.\\n\\nThose are my good reason why i don't agr...           0.088147   \n",
       "2668                                                              0.187084   \n",
       "\n",
       "      score_adequate  score_effective  pos  \n",
       "0           0.879126         0.036973    0  \n",
       "1           0.915504         0.052582    1  \n",
       "2           0.464655         0.507601    2  \n",
       "3           0.835423         0.123085    3  \n",
       "4           0.879841         0.090108    4  \n",
       "...              ...              ...  ...  \n",
       "2664        0.872957         0.060047    4  \n",
       "2665        0.830194         0.044670    5  \n",
       "2666        0.934834         0.033193    6  \n",
       "2667        0.851548         0.060305    7  \n",
       "2668        0.795535         0.017381    8  \n",
       "\n",
       "[2669 rows x 12 columns]"
      ]
     },
     "execution_count": 39,
     "metadata": {},
     "output_type": "execute_result"
    }
   ],
   "source": [
    "test_meta_df"
   ]
  },
  {
   "cell_type": "code",
   "execution_count": 40,
   "metadata": {},
   "outputs": [],
   "source": [
    "test_meta_df.to_csv(DATASET_DIR_PATH / 'test_meta.csv', index=False)"
   ]
  }
 ],
 "metadata": {
  "kernelspec": {
   "display_name": "Python 3.10.5 ('feedback-prize')",
   "language": "python",
   "name": "python3"
  },
  "language_info": {
   "codemirror_mode": {
    "name": "ipython",
    "version": 3
   },
   "file_extension": ".py",
   "mimetype": "text/x-python",
   "name": "python",
   "nbconvert_exporter": "python",
   "pygments_lexer": "ipython3",
   "version": "3.10.5"
  },
  "orig_nbformat": 4,
  "vscode": {
   "interpreter": {
    "hash": "d4bdb910d5a1d13cf3dadcf35b3d85c5b41073a46648bc4fa6100093e0e32196"
   }
  }
 },
 "nbformat": 4,
 "nbformat_minor": 2
}
