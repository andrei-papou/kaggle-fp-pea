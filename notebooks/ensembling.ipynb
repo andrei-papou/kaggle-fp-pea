{
 "cells": [
  {
   "cell_type": "markdown",
   "metadata": {},
   "source": [
    "#### Imports"
   ]
  },
  {
   "cell_type": "code",
   "execution_count": 49,
   "metadata": {},
   "outputs": [],
   "source": [
    "import collections\n",
    "import math\n",
    "import numpy as np\n",
    "import pickle\n",
    "import typing as t\n",
    "from pathlib import Path\n",
    "\n",
    "import pandas as pd\n",
    "from sklearn.linear_model import LogisticRegression\n",
    "from sklearn.tree import DecisionTreeClassifier\n",
    "from tqdm.notebook import tqdm"
   ]
  },
  {
   "cell_type": "code",
   "execution_count": 2,
   "metadata": {},
   "outputs": [],
   "source": [
    "tqdm.pandas()"
   ]
  },
  {
   "cell_type": "markdown",
   "metadata": {},
   "source": [
    "#### Directories"
   ]
  },
  {
   "cell_type": "code",
   "execution_count": 46,
   "metadata": {},
   "outputs": [],
   "source": [
    "ROOT_DIR = Path('/root/data')\n",
    "DATASET_ROOT_DIR_PATH = ROOT_DIR / 'datasets'\n",
    "DATASET_DIR_PATH = DATASET_ROOT_DIR_PATH / 'fp-0p925'\n",
    "MODEL_DIR_PATH = ROOT_DIR / 'models'"
   ]
  },
  {
   "cell_type": "code",
   "execution_count": 4,
   "metadata": {},
   "outputs": [
    {
     "name": "stdout",
     "output_type": "stream",
     "text": [
      "total 559684\n",
      "drwxrwxr-x 2 root root      4096 Aug 16 18:18  .\n",
      "drwxrwxr-x 5 root root      4096 Aug 11 14:04  ..\n",
      "-rw-rw-r-- 1 root root  13197552 Jul 30 22:29  TEST_DB.csv\n",
      "-rw-rw-r-- 1 root root 181093973 Jul 30 12:29  TRAIN_DB.csv\n",
      "-rw-rw-r-- 1 root root    192850 Aug 16 02:34  microsoft-deberta-v3-base-0p925-meta-fold_0.csv\n",
      "-rw-rw-r-- 1 root root    192660 Aug 16 02:35  microsoft-deberta-v3-base-0p925-meta-fold_1.csv\n",
      "-rw-rw-r-- 1 root root    192681 Aug 16 02:36  microsoft-deberta-v3-base-0p925-meta-fold_2.csv\n",
      "-rw-rw-r-- 1 root root    192628 Aug 16 02:37  microsoft-deberta-v3-base-0p925-meta-fold_3.csv\n",
      "-rw-rw-r-- 1 root root    192673 Aug 16 02:38  microsoft-deberta-v3-base-0p925-meta-fold_4.csv\n",
      "-rw-r--r-- 1 root root    192590 Aug 15 20:00  microsoft-deberta-v3-base-0p925-meta.csv\n",
      "-rw-r--r-- 1 root root    123699 Aug 12 12:35  predicted_test_by_v5DBlS42.csv\n",
      "-rw-r--r-- 1 root root  36381617 Aug 11 14:00 'prediction[0].csv'\n",
      "-rw-r--r-- 1 root root  37668899 Aug 11 14:01 'prediction[1].csv'\n",
      "-rw-r--r-- 1 root root  36260154 Aug 11 14:01 'prediction[2].csv'\n",
      "-rw-r--r-- 1 root root  35455520 Aug 11 14:02 'prediction[3].csv'\n",
      "-rw-r--r-- 1 root root  35278414 Aug 11 14:02 'prediction[4].csv'\n",
      "-rw-r--r-- 1 root root  13292095 Aug 12 13:13  test_meta.csv\n",
      "-rw-r--r-- 1 root root 183140796 Aug 11 15:34  train_meta.csv\n"
     ]
    }
   ],
   "source": [
    "!ls -la $DATASET_DIR_PATH"
   ]
  },
  {
   "cell_type": "markdown",
   "metadata": {},
   "source": [
    "#### Data loading"
   ]
  },
  {
   "cell_type": "code",
   "execution_count": 5,
   "metadata": {},
   "outputs": [
    {
     "name": "stderr",
     "output_type": "stream",
     "text": [
      "/tmp/ipykernel_530/671205998.py:9: FutureWarning: Passing 'suffixes' which cause duplicate columns {'id_x'} in the result is deprecated and will raise a MergeError in a future version.\n",
      "  test_df = test_df.merge(fold_df, left_on='discourse_id', right_on='id')\n"
     ]
    }
   ],
   "source": [
    "def _load_df(data_dir: Path) -> pd.DataFrame:\n",
    "    test_df = pd.read_csv(data_dir / 'TEST_DB.csv')\n",
    "    for fold in range(5):\n",
    "        fold_df = pd.read_csv(data_dir / f'microsoft-deberta-v3-base-0p925-meta-fold_{fold}.csv').rename({\n",
    "            'score_ineffective': f'score_ineffective_{fold}',\n",
    "            'score_adequate': f'score_adequate_{fold}',\n",
    "            'score_effective': f'score_effective_{fold}',\n",
    "        }, axis=1)\n",
    "        test_df = test_df.merge(fold_df, left_on='discourse_id', right_on='id')\n",
    "    return test_df\n",
    "\n",
    "test_df = _load_df(DATASET_DIR_PATH)"
   ]
  },
  {
   "cell_type": "code",
   "execution_count": 11,
   "metadata": {},
   "outputs": [
    {
     "data": {
      "text/plain": [
       "Index(['discourse_id', 'essay_id', 'discourse_text', 'discourse_type',\n",
       "       'discourse_effectiveness', 'essay', 'before', 'after', 'id_x',\n",
       "       'score_ineffective_0', 'score_adequate_0', 'score_effective_0', 'id_y',\n",
       "       'score_ineffective_1', 'score_adequate_1', 'score_effective_1', 'id_x',\n",
       "       'score_ineffective_2', 'score_adequate_2', 'score_effective_2', 'id_y',\n",
       "       'score_ineffective_3', 'score_adequate_3', 'score_effective_3', 'id',\n",
       "       'score_ineffective_4', 'score_adequate_4', 'score_effective_4'],\n",
       "      dtype='object')"
      ]
     },
     "execution_count": 11,
     "metadata": {},
     "output_type": "execute_result"
    }
   ],
   "source": [
    "test_df.columns"
   ]
  },
  {
   "cell_type": "code",
   "execution_count": 6,
   "metadata": {},
   "outputs": [
    {
     "data": {
      "text/html": [
       "<div>\n",
       "<style scoped>\n",
       "    .dataframe tbody tr th:only-of-type {\n",
       "        vertical-align: middle;\n",
       "    }\n",
       "\n",
       "    .dataframe tbody tr th {\n",
       "        vertical-align: top;\n",
       "    }\n",
       "\n",
       "    .dataframe thead th {\n",
       "        text-align: right;\n",
       "    }\n",
       "</style>\n",
       "<table border=\"1\" class=\"dataframe\">\n",
       "  <thead>\n",
       "    <tr style=\"text-align: right;\">\n",
       "      <th></th>\n",
       "      <th>discourse_id</th>\n",
       "      <th>essay_id</th>\n",
       "      <th>discourse_text</th>\n",
       "      <th>discourse_type</th>\n",
       "      <th>discourse_effectiveness</th>\n",
       "      <th>essay</th>\n",
       "      <th>before</th>\n",
       "      <th>after</th>\n",
       "      <th>id_x</th>\n",
       "      <th>score_ineffective_0</th>\n",
       "      <th>...</th>\n",
       "      <th>score_adequate_2</th>\n",
       "      <th>score_effective_2</th>\n",
       "      <th>id_y</th>\n",
       "      <th>score_ineffective_3</th>\n",
       "      <th>score_adequate_3</th>\n",
       "      <th>score_effective_3</th>\n",
       "      <th>id</th>\n",
       "      <th>score_ineffective_4</th>\n",
       "      <th>score_adequate_4</th>\n",
       "      <th>score_effective_4</th>\n",
       "    </tr>\n",
       "  </thead>\n",
       "  <tbody>\n",
       "    <tr>\n",
       "      <th>0</th>\n",
       "      <td>ba3f708db030</td>\n",
       "      <td>02A3E737A10F</td>\n",
       "      <td>Students shouldn't have to participate in one ...</td>\n",
       "      <td>Position</td>\n",
       "      <td>Adequate</td>\n",
       "      <td>Students shouldn't have to participate in one ...</td>\n",
       "      <td>NO</td>\n",
       "      <td>\\nStudents have other things to do at home. Ma...</td>\n",
       "      <td>ba3f708db030</td>\n",
       "      <td>0.109951</td>\n",
       "      <td>...</td>\n",
       "      <td>0.872251</td>\n",
       "      <td>0.055061</td>\n",
       "      <td>ba3f708db030</td>\n",
       "      <td>0.072376</td>\n",
       "      <td>0.823252</td>\n",
       "      <td>0.104372</td>\n",
       "      <td>ba3f708db030</td>\n",
       "      <td>0.143035</td>\n",
       "      <td>0.797386</td>\n",
       "      <td>0.059579</td>\n",
       "    </tr>\n",
       "    <tr>\n",
       "      <th>1</th>\n",
       "      <td>efeb7a805421</td>\n",
       "      <td>02A3E737A10F</td>\n",
       "      <td>Students have other things to do at home</td>\n",
       "      <td>Claim</td>\n",
       "      <td>Adequate</td>\n",
       "      <td>Students shouldn't have to participate in one ...</td>\n",
       "      <td>Students shouldn't have to participate in one ...</td>\n",
       "      <td>. Many students have a lot of things to do at ...</td>\n",
       "      <td>efeb7a805421</td>\n",
       "      <td>0.068727</td>\n",
       "      <td>...</td>\n",
       "      <td>0.855797</td>\n",
       "      <td>0.086394</td>\n",
       "      <td>efeb7a805421</td>\n",
       "      <td>0.044972</td>\n",
       "      <td>0.806221</td>\n",
       "      <td>0.148807</td>\n",
       "      <td>efeb7a805421</td>\n",
       "      <td>0.037542</td>\n",
       "      <td>0.841991</td>\n",
       "      <td>0.120467</td>\n",
       "    </tr>\n",
       "    <tr>\n",
       "      <th>2</th>\n",
       "      <td>03205305e7bd</td>\n",
       "      <td>02A3E737A10F</td>\n",
       "      <td>Many students have a lot of things to do at ho...</td>\n",
       "      <td>Evidence</td>\n",
       "      <td>Effective</td>\n",
       "      <td>Students shouldn't have to participate in one ...</td>\n",
       "      <td>Students shouldn't have to participate in one ...</td>\n",
       "      <td>I disagree with the principal that every stude...</td>\n",
       "      <td>03205305e7bd</td>\n",
       "      <td>0.068968</td>\n",
       "      <td>...</td>\n",
       "      <td>0.672169</td>\n",
       "      <td>0.284300</td>\n",
       "      <td>03205305e7bd</td>\n",
       "      <td>0.024640</td>\n",
       "      <td>0.506623</td>\n",
       "      <td>0.468738</td>\n",
       "      <td>03205305e7bd</td>\n",
       "      <td>0.038560</td>\n",
       "      <td>0.650531</td>\n",
       "      <td>0.310909</td>\n",
       "    </tr>\n",
       "  </tbody>\n",
       "</table>\n",
       "<p>3 rows × 28 columns</p>\n",
       "</div>"
      ],
      "text/plain": [
       "   discourse_id      essay_id  \\\n",
       "0  ba3f708db030  02A3E737A10F   \n",
       "1  efeb7a805421  02A3E737A10F   \n",
       "2  03205305e7bd  02A3E737A10F   \n",
       "\n",
       "                                      discourse_text discourse_type  \\\n",
       "0  Students shouldn't have to participate in one ...       Position   \n",
       "1          Students have other things to do at home           Claim   \n",
       "2  Many students have a lot of things to do at ho...       Evidence   \n",
       "\n",
       "  discourse_effectiveness                                              essay  \\\n",
       "0                Adequate  Students shouldn't have to participate in one ...   \n",
       "1                Adequate  Students shouldn't have to participate in one ...   \n",
       "2               Effective  Students shouldn't have to participate in one ...   \n",
       "\n",
       "                                              before  \\\n",
       "0                                                 NO   \n",
       "1  Students shouldn't have to participate in one ...   \n",
       "2  Students shouldn't have to participate in one ...   \n",
       "\n",
       "                                               after          id_x  \\\n",
       "0  \\nStudents have other things to do at home. Ma...  ba3f708db030   \n",
       "1  . Many students have a lot of things to do at ...  efeb7a805421   \n",
       "2  I disagree with the principal that every stude...  03205305e7bd   \n",
       "\n",
       "   score_ineffective_0  ...  score_adequate_2  score_effective_2  \\\n",
       "0             0.109951  ...          0.872251           0.055061   \n",
       "1             0.068727  ...          0.855797           0.086394   \n",
       "2             0.068968  ...          0.672169           0.284300   \n",
       "\n",
       "           id_y  score_ineffective_3  score_adequate_3  score_effective_3  \\\n",
       "0  ba3f708db030             0.072376          0.823252           0.104372   \n",
       "1  efeb7a805421             0.044972          0.806221           0.148807   \n",
       "2  03205305e7bd             0.024640          0.506623           0.468738   \n",
       "\n",
       "             id  score_ineffective_4  score_adequate_4  score_effective_4  \n",
       "0  ba3f708db030             0.143035          0.797386           0.059579  \n",
       "1  efeb7a805421             0.037542          0.841991           0.120467  \n",
       "2  03205305e7bd             0.038560          0.650531           0.310909  \n",
       "\n",
       "[3 rows x 28 columns]"
      ]
     },
     "execution_count": 6,
     "metadata": {},
     "output_type": "execute_result"
    }
   ],
   "source": [
    "test_df.head(3)"
   ]
  },
  {
   "cell_type": "markdown",
   "metadata": {},
   "source": [
    "#### Loss"
   ]
  },
  {
   "cell_type": "code",
   "execution_count": 7,
   "metadata": {},
   "outputs": [],
   "source": [
    "def _get_row_loss(row: t.Dict[str, t.Any]) -> float:\n",
    "    (\n",
    "        disc_eff,\n",
    "        score_ineff,\n",
    "        score_adeq,\n",
    "        score_eff,\n",
    "    ) = (\n",
    "        str(row['discourse_effectiveness']),\n",
    "        float(row['score_ineffective']),\n",
    "        float(row['score_adequate']),\n",
    "        float(row['score_effective']),\n",
    "    )\n",
    "    if disc_eff == 'Ineffective':\n",
    "        return -math.log(score_ineff)\n",
    "    if disc_eff == 'Adequate':\n",
    "        return -math.log(score_adeq)\n",
    "    if disc_eff == 'Effective':\n",
    "        return -math.log(score_eff)\n",
    "    raise ValueError(f'Unknown disc_eff = {disc_eff}')\n",
    "\n",
    "\n",
    "def get_loss(df: pd.DataFrame) -> float:\n",
    "    return df.apply(_get_row_loss, axis=1).mean()"
   ]
  },
  {
   "cell_type": "markdown",
   "metadata": {},
   "source": [
    "#### Mean"
   ]
  },
  {
   "cell_type": "code",
   "execution_count": 8,
   "metadata": {},
   "outputs": [
    {
     "data": {
      "text/plain": [
       "0.6297654462679665"
      ]
     },
     "execution_count": 8,
     "metadata": {},
     "output_type": "execute_result"
    }
   ],
   "source": [
    "def _mean(xs):\n",
    "    return sum(xs) / len(xs)\n",
    "\n",
    "\n",
    "def _ensemble_mean(df: pd.DataFrame) -> pd.DataFrame:\n",
    "    df = df.copy()\n",
    "    df['score_ineffective'] = _mean([df[f'score_ineffective_{fold}'] for fold in range(5)])\n",
    "    df['score_adequate'] = _mean([df[f'score_adequate_{fold}'] for fold in range(5)])\n",
    "    df['score_effective'] = _mean([df[f'score_effective_{fold}'] for fold in range(5)])\n",
    "    return df\n",
    "\n",
    "get_loss(_ensemble_mean(test_df))"
   ]
  },
  {
   "cell_type": "markdown",
   "metadata": {},
   "source": [
    "#### Voting"
   ]
  },
  {
   "cell_type": "code",
   "execution_count": 9,
   "metadata": {},
   "outputs": [
    {
     "data": {
      "application/vnd.jupyter.widget-view+json": {
       "model_id": "5342ac10e34d4b478aaf761f1a8d24af",
       "version_major": 2,
       "version_minor": 0
      },
      "text/plain": [
       "  0%|          | 0/2669 [00:00<?, ?it/s]"
      ]
     },
     "metadata": {},
     "output_type": "display_data"
    },
    {
     "data": {
      "application/vnd.jupyter.widget-view+json": {
       "model_id": "6b14cd0867b64feca8bf47ef66dc0b50",
       "version_major": 2,
       "version_minor": 0
      },
      "text/plain": [
       "  0%|          | 0/2669 [00:00<?, ?it/s]"
      ]
     },
     "metadata": {},
     "output_type": "display_data"
    },
    {
     "data": {
      "application/vnd.jupyter.widget-view+json": {
       "model_id": "d1ca71e85109498b80e5ead94f1fd0b4",
       "version_major": 2,
       "version_minor": 0
      },
      "text/plain": [
       "  0%|          | 0/2669 [00:00<?, ?it/s]"
      ]
     },
     "metadata": {},
     "output_type": "display_data"
    },
    {
     "data": {
      "application/vnd.jupyter.widget-view+json": {
       "model_id": "a076eb4713b44c3e8b19111884904cc3",
       "version_major": 2,
       "version_minor": 0
      },
      "text/plain": [
       "  0%|          | 0/2669 [00:00<?, ?it/s]"
      ]
     },
     "metadata": {},
     "output_type": "display_data"
    },
    {
     "data": {
      "application/vnd.jupyter.widget-view+json": {
       "model_id": "52709064adb049fe8e8ead27ad83dbb1",
       "version_major": 2,
       "version_minor": 0
      },
      "text/plain": [
       "  0%|          | 0/2669 [00:00<?, ?it/s]"
      ]
     },
     "metadata": {},
     "output_type": "display_data"
    },
    {
     "data": {
      "application/vnd.jupyter.widget-view+json": {
       "model_id": "b8ff20d4b66c407592bc9d67634c3350",
       "version_major": 2,
       "version_minor": 0
      },
      "text/plain": [
       "  0%|          | 0/2669 [00:00<?, ?it/s]"
      ]
     },
     "metadata": {},
     "output_type": "display_data"
    },
    {
     "data": {
      "application/vnd.jupyter.widget-view+json": {
       "model_id": "de709e46dc7c4c52b94dc9796f0e8220",
       "version_major": 2,
       "version_minor": 0
      },
      "text/plain": [
       "  0%|          | 0/2669 [00:00<?, ?it/s]"
      ]
     },
     "metadata": {},
     "output_type": "display_data"
    },
    {
     "data": {
      "application/vnd.jupyter.widget-view+json": {
       "model_id": "59d0f034a17f4a5cb6066f4b763f5f4f",
       "version_major": 2,
       "version_minor": 0
      },
      "text/plain": [
       "  0%|          | 0/2669 [00:00<?, ?it/s]"
      ]
     },
     "metadata": {},
     "output_type": "display_data"
    },
    {
     "data": {
      "application/vnd.jupyter.widget-view+json": {
       "model_id": "7462ed1aacee4e1983a08d100b2dbef6",
       "version_major": 2,
       "version_minor": 0
      },
      "text/plain": [
       "  0%|          | 0/2669 [00:00<?, ?it/s]"
      ]
     },
     "metadata": {},
     "output_type": "display_data"
    },
    {
     "data": {
      "application/vnd.jupyter.widget-view+json": {
       "model_id": "c7be14b6c15c4949bcb57f0759c7d094",
       "version_major": 2,
       "version_minor": 0
      },
      "text/plain": [
       "  0%|          | 0/2669 [00:00<?, ?it/s]"
      ]
     },
     "metadata": {},
     "output_type": "display_data"
    },
    {
     "data": {
      "text/plain": [
       "0.6307805088892932"
      ]
     },
     "execution_count": 9,
     "metadata": {},
     "output_type": "execute_result"
    }
   ],
   "source": [
    "class _VoteGetter:\n",
    "\n",
    "    def __init__(self, fold: int):\n",
    "        self._fold = fold\n",
    "\n",
    "    def __call__(self, row: t.Dict[str, t.Any]) -> int:\n",
    "        (\n",
    "            score_eff,\n",
    "            score_adq,\n",
    "            score_ineff,\n",
    "        ) = (\n",
    "            float(row[f'score_effective_{self._fold}']),\n",
    "            float(row[f'score_adequate_{self._fold}']),\n",
    "            float(row[f'score_ineffective_{self._fold}']),\n",
    "        )\n",
    "        if score_eff > score_adq and score_eff > score_ineff:\n",
    "            return 2\n",
    "        if score_adq > score_eff and score_adq > score_ineff:\n",
    "            return 1\n",
    "        if score_ineff > score_adq and score_ineff > score_eff:\n",
    "            return 0\n",
    "        raise RuntimeError(f'ineff = {score_ineff:.4f} adq = {score_adq:.4f} eff = {score_eff:.4f}')\n",
    "\n",
    "\n",
    "def _get_num_vote_opt(row: t.Dict[str, t.Any]) -> int:\n",
    "    return len({row[f'vote_{fold}'] for fold in range(5)})\n",
    "\n",
    "\n",
    "def _vote_main(df: pd.DataFrame):\n",
    "    df = df.copy()\n",
    "    for fold in range(5):\n",
    "        df[f'vote_{fold}'] = df.progress_apply(_VoteGetter(fold=fold), axis=1)\n",
    "    df['num_vote_opt'] = df.progress_apply(_get_num_vote_opt, axis=1)\n",
    "    print(df.groupby('num_vote_opt')['id'].count())\n",
    "\n",
    "\n",
    "def _vote_to_score_col_name_template(vote: int) -> str:\n",
    "    if vote == 0:\n",
    "        return 'score_ineffective_{fold}'\n",
    "    if vote == 1:\n",
    "        return 'score_adequate_{fold}'\n",
    "    if vote == 2:\n",
    "        return 'score_effective_{fold}'\n",
    "    raise ValueError(f'Invalid `vote`: {vote}.')\n",
    "\n",
    "\n",
    "def _get_best_vote(row: t.Dict[str, t.Any]) -> int:\n",
    "    vote_list = [row[f'vote_{fold}'] for fold in range(5)]\n",
    "    vote_counter = collections.Counter(vote_list)\n",
    "    return max(vote_counter, key=vote_counter.get)\n",
    "\n",
    "\n",
    "def _get_best_fold(row: t.Dict[str, t.Any]) -> int:\n",
    "    correct_fold_list = [fold for fold in range(5) if row[f'vote_{fold}'] == row['vote_best']]\n",
    "    return max(\n",
    "        [fold for fold in correct_fold_list],\n",
    "        key=lambda fold: row[_vote_to_score_col_name_template(row['vote_best']).format(fold=fold)])\n",
    "\n",
    "\n",
    "def _ensemble_vote_max(df: pd.DataFrame) -> pd.DataFrame:\n",
    "    df = df.copy()\n",
    "    for fold in range(5):\n",
    "        df[f'vote_{fold}'] = df.progress_apply(_VoteGetter(fold=fold), axis=1)\n",
    "    df['vote_best'] = df.progress_apply(_get_best_vote, axis=1)\n",
    "    df['vote_best_fold'] = df.progress_apply(_get_best_fold, axis=1)\n",
    "    df['score_ineffective'] = df.progress_apply(lambda row: row[f'score_ineffective_{row[\"vote_best_fold\"]}'], axis=1)\n",
    "    df['score_adequate'] = df.progress_apply(lambda row: row[f'score_adequate_{row[\"vote_best_fold\"]}'], axis=1)\n",
    "    df['score_effective'] = df.progress_apply(lambda row: row[f'score_effective_{row[\"vote_best_fold\"]}'], axis=1)\n",
    "    df['loss'] = df.progress_apply(_get_row_loss, axis=1)\n",
    "    return df\n",
    "\n",
    "\n",
    "def _ensemble_vote_mean(df: pd.DataFrame) -> pd.DataFrame:\n",
    "    df = df.copy()\n",
    "    for fold in range(5):\n",
    "        df[f'vote_{fold}'] = df.progress_apply(_VoteGetter(fold=fold), axis=1)\n",
    "    df['vote_best'] = df.progress_apply(_get_best_vote, axis=1)\n",
    "    df['score_ineffective'] = df.progress_apply(\n",
    "        lambda row: _mean([row[f'score_ineffective_{fold}'] for fold in range(5) if row[f'vote_{fold}'] == row['vote_best']]), axis=1)\n",
    "    df['score_adequate'] = df.progress_apply(\n",
    "        lambda row: _mean([row[f'score_adequate_{fold}'] for fold in range(5) if row[f'vote_{fold}'] == row['vote_best']]), axis=1)\n",
    "    df['score_effective'] = df.progress_apply(\n",
    "        lambda row: _mean([row[f'score_effective_{fold}'] for fold in range(5) if row[f'vote_{fold}'] == row['vote_best']]), axis=1)\n",
    "    df['loss'] = df.progress_apply(_get_row_loss, axis=1)\n",
    "    return df\n",
    "\n",
    "\n",
    "get_loss(_ensemble_vote_mean(test_df))"
   ]
  },
  {
   "cell_type": "markdown",
   "metadata": {},
   "source": [
    "#### Decision tree"
   ]
  },
  {
   "cell_type": "code",
   "execution_count": 47,
   "metadata": {},
   "outputs": [
    {
     "data": {
      "application/vnd.jupyter.widget-view+json": {
       "model_id": "3089760fb47e42378477b107bd5b05c6",
       "version_major": 2,
       "version_minor": 0
      },
      "text/plain": [
       "  0%|          | 0/2669 [00:00<?, ?it/s]"
      ]
     },
     "metadata": {},
     "output_type": "display_data"
    },
    {
     "data": {
      "application/vnd.jupyter.widget-view+json": {
       "model_id": "ac81e84813e146a2a58b01af53458020",
       "version_major": 2,
       "version_minor": 0
      },
      "text/plain": [
       "  0%|          | 0/2669 [00:00<?, ?it/s]"
      ]
     },
     "metadata": {},
     "output_type": "display_data"
    },
    {
     "name": "stdout",
     "output_type": "stream",
     "text": [
      "max_depth = 4 loss = 0.60146\n"
     ]
    },
    {
     "data": {
      "application/vnd.jupyter.widget-view+json": {
       "model_id": "5d70a511418a47019d286be54f9ada11",
       "version_major": 2,
       "version_minor": 0
      },
      "text/plain": [
       "  0%|          | 0/2669 [00:00<?, ?it/s]"
      ]
     },
     "metadata": {},
     "output_type": "display_data"
    },
    {
     "data": {
      "application/vnd.jupyter.widget-view+json": {
       "model_id": "979e8e9964194e39b9b2438eaf0fa2c1",
       "version_major": 2,
       "version_minor": 0
      },
      "text/plain": [
       "  0%|          | 0/2669 [00:00<?, ?it/s]"
      ]
     },
     "metadata": {},
     "output_type": "display_data"
    },
    {
     "name": "stdout",
     "output_type": "stream",
     "text": [
      "max_depth = 5 loss = 0.56726\n"
     ]
    },
    {
     "data": {
      "application/vnd.jupyter.widget-view+json": {
       "model_id": "a1fc4dee2982482e943872a8a8dba798",
       "version_major": 2,
       "version_minor": 0
      },
      "text/plain": [
       "  0%|          | 0/2669 [00:00<?, ?it/s]"
      ]
     },
     "metadata": {},
     "output_type": "display_data"
    },
    {
     "data": {
      "application/vnd.jupyter.widget-view+json": {
       "model_id": "6b79a77a362a484cb9786c66197ef66a",
       "version_major": 2,
       "version_minor": 0
      },
      "text/plain": [
       "  0%|          | 0/2669 [00:00<?, ?it/s]"
      ]
     },
     "metadata": {},
     "output_type": "display_data"
    },
    {
     "name": "stdout",
     "output_type": "stream",
     "text": [
      "max_depth = 6 loss = 0.52285\n"
     ]
    }
   ],
   "source": [
    "_DISC_EFF_STR_TO_INT = {\n",
    "    'Ineffective': 0,\n",
    "    'Adequate': 1,\n",
    "    'Effective': 2,\n",
    "}\n",
    "\n",
    "\n",
    "def _build_x(df: pd.DataFrame) -> np.ndarray:\n",
    "    x_2d_list = []\n",
    "    disc_type_list = sorted(list(df['discourse_type'].unique()))\n",
    "    for _, row in tqdm(df.iterrows(), total=len(df)):\n",
    "        x_1d_list = []\n",
    "        for fold in range(5):\n",
    "            x_1d_list.extend([\n",
    "                float(row[f'score_ineffective_{fold}']),\n",
    "                float(row[f'score_adequate_{fold}']),\n",
    "                float(row[f'score_effective_{fold}']),\n",
    "                float(row[f'score_effective_{fold}']) - float(row[f'score_adequate_{fold}']),\n",
    "                float(row[f'score_effective_{fold}']) - float(row[f'score_ineffective_{fold}']),\n",
    "                float(row[f'score_adequate_{fold}']) - float(row[f'score_ineffective_{fold}']),\n",
    "            ])\n",
    "        x_1d_list.extend([int(row['discourse_type'] == dt) for dt in disc_type_list])\n",
    "        x_2d_list.append(x_1d_list)\n",
    "    return np.array(x_2d_list)\n",
    "\n",
    "\n",
    "def _get_feature_name_list(df: pd.DataFrame) -> t.List[str]:\n",
    "    disc_type_list = sorted(list(df['discourse_type'].unique()))\n",
    "    feature_name_list = []\n",
    "    for fold in range(5):\n",
    "        feature_name_list.extend([\n",
    "            f'score_ineffective_{fold}',\n",
    "            f'score_adequate_{fold}',\n",
    "            f'score_effective_{fold}',\n",
    "            f'score_eff_adq_diff_{fold}',\n",
    "            f'score_eff_ineff_diff_{fold}',\n",
    "            f'score_adq_ineff_diff_{fold}',\n",
    "        ])\n",
    "    for dt in disc_type_list:\n",
    "        feature_name_list.append(dt)\n",
    "    return feature_name_list\n",
    "\n",
    "\n",
    "def _build_y(df: pd.DataFrame) -> np.ndarray:\n",
    "    return np.array([_DISC_EFF_STR_TO_INT[row['discourse_effectiveness']] for _, row in tqdm(df.iterrows(), total=len(df))])\n",
    "\n",
    "\n",
    "def _compute_loss(df: pd.DataFrame, y_hat: np.ndarray) -> float:\n",
    "    df = df.copy()\n",
    "    df['score_ineffective'] = y_hat[:, 0]\n",
    "    df['score_adequate'] = y_hat[:, 1]\n",
    "    df['score_effective'] = y_hat[:, 2]\n",
    "    return get_loss(df)\n",
    "\n",
    "\n",
    "def _train_decision_tree_classifier(\n",
    "        df: pd.DataFrame,\n",
    "        save_model_to_dir: Path):\n",
    "    df = df.copy()\n",
    "    for max_depth in range(4, 7):\n",
    "        x, y = _build_x(df), _build_y(df)\n",
    "        tree = DecisionTreeClassifier(random_state=42, max_depth=max_depth)\n",
    "        tree.fit(x, y)\n",
    "        y_hat = tree.predict_proba(x)\n",
    "        print(f'max_depth = {max_depth} loss = {_compute_loss(df, y_hat):.5f}')\n",
    "        with open(save_model_to_dir / f'lvl4-decision_tree-max_depth_{max_depth}.pkl', 'wb') as f:\n",
    "            pickle.dump(tree, f)\n",
    "    # return plot_tree(tree, feature_names=_get_feature_name_list(df))\n",
    "\n",
    "_train_decision_tree_classifier(test_df, MODEL_DIR_PATH)"
   ]
  },
  {
   "cell_type": "markdown",
   "metadata": {},
   "source": [
    "#### Linear Regression"
   ]
  },
  {
   "cell_type": "code",
   "execution_count": 51,
   "metadata": {},
   "outputs": [
    {
     "data": {
      "application/vnd.jupyter.widget-view+json": {
       "model_id": "871bcf4d78e64f7395762439b02595e4",
       "version_major": 2,
       "version_minor": 0
      },
      "text/plain": [
       "  0%|          | 0/854 [00:00<?, ?it/s]"
      ]
     },
     "metadata": {},
     "output_type": "display_data"
    },
    {
     "data": {
      "application/vnd.jupyter.widget-view+json": {
       "model_id": "2a6c64c2231a4035bf037408b5e4f356",
       "version_major": 2,
       "version_minor": 0
      },
      "text/plain": [
       "  0%|          | 0/854 [00:00<?, ?it/s]"
      ]
     },
     "metadata": {},
     "output_type": "display_data"
    },
    {
     "name": "stdout",
     "output_type": "stream",
     "text": [
      "loss = 0.64965\n"
     ]
    },
    {
     "data": {
      "application/vnd.jupyter.widget-view+json": {
       "model_id": "4f267284df7742c99f5388f95ce1915b",
       "version_major": 2,
       "version_minor": 0
      },
      "text/plain": [
       "  0%|          | 0/251 [00:00<?, ?it/s]"
      ]
     },
     "metadata": {},
     "output_type": "display_data"
    },
    {
     "data": {
      "application/vnd.jupyter.widget-view+json": {
       "model_id": "c7770bce1b2743dda71280ae5fdbf019",
       "version_major": 2,
       "version_minor": 0
      },
      "text/plain": [
       "  0%|          | 0/251 [00:00<?, ?it/s]"
      ]
     },
     "metadata": {},
     "output_type": "display_data"
    },
    {
     "name": "stdout",
     "output_type": "stream",
     "text": [
      "loss = 0.58624\n"
     ]
    },
    {
     "data": {
      "application/vnd.jupyter.widget-view+json": {
       "model_id": "5cd6bef40c8b4597ace8e61aac6b0801",
       "version_major": 2,
       "version_minor": 0
      },
      "text/plain": [
       "  0%|          | 0/122 [00:00<?, ?it/s]"
      ]
     },
     "metadata": {},
     "output_type": "display_data"
    },
    {
     "data": {
      "application/vnd.jupyter.widget-view+json": {
       "model_id": "db1ece29fd9a4abba3258800488d0cd5",
       "version_major": 2,
       "version_minor": 0
      },
      "text/plain": [
       "  0%|          | 0/122 [00:00<?, ?it/s]"
      ]
     },
     "metadata": {},
     "output_type": "display_data"
    },
    {
     "name": "stdout",
     "output_type": "stream",
     "text": [
      "loss = 0.60955\n"
     ]
    },
    {
     "data": {
      "application/vnd.jupyter.widget-view+json": {
       "model_id": "0a56f1733aa84351af36a77e618b020a",
       "version_major": 2,
       "version_minor": 0
      },
      "text/plain": [
       "  0%|          | 0/884 [00:00<?, ?it/s]"
      ]
     },
     "metadata": {},
     "output_type": "display_data"
    },
    {
     "data": {
      "application/vnd.jupyter.widget-view+json": {
       "model_id": "9652a9e121e1478a961a34b0f75826e9",
       "version_major": 2,
       "version_minor": 0
      },
      "text/plain": [
       "  0%|          | 0/884 [00:00<?, ?it/s]"
      ]
     },
     "metadata": {},
     "output_type": "display_data"
    },
    {
     "name": "stdout",
     "output_type": "stream",
     "text": [
      "loss = 0.62814\n"
     ]
    },
    {
     "data": {
      "application/vnd.jupyter.widget-view+json": {
       "model_id": "9248c4198eed48e2b36493875050bf02",
       "version_major": 2,
       "version_minor": 0
      },
      "text/plain": [
       "  0%|          | 0/170 [00:00<?, ?it/s]"
      ]
     },
     "metadata": {},
     "output_type": "display_data"
    },
    {
     "data": {
      "application/vnd.jupyter.widget-view+json": {
       "model_id": "0da0cc083e8e4c39b17fa4c58a96fb6e",
       "version_major": 2,
       "version_minor": 0
      },
      "text/plain": [
       "  0%|          | 0/170 [00:00<?, ?it/s]"
      ]
     },
     "metadata": {},
     "output_type": "display_data"
    },
    {
     "name": "stdout",
     "output_type": "stream",
     "text": [
      "loss = 0.72910\n"
     ]
    },
    {
     "data": {
      "application/vnd.jupyter.widget-view+json": {
       "model_id": "2798e5a982f146f6a183e221ff0cd679",
       "version_major": 2,
       "version_minor": 0
      },
      "text/plain": [
       "  0%|          | 0/309 [00:00<?, ?it/s]"
      ]
     },
     "metadata": {},
     "output_type": "display_data"
    },
    {
     "data": {
      "application/vnd.jupyter.widget-view+json": {
       "model_id": "368f02dc71324be79864c0632f5050cd",
       "version_major": 2,
       "version_minor": 0
      },
      "text/plain": [
       "  0%|          | 0/309 [00:00<?, ?it/s]"
      ]
     },
     "metadata": {},
     "output_type": "display_data"
    },
    {
     "name": "stdout",
     "output_type": "stream",
     "text": [
      "loss = 0.55135\n"
     ]
    },
    {
     "data": {
      "application/vnd.jupyter.widget-view+json": {
       "model_id": "ff5ff9a8a36f442abda62d3ef3862f65",
       "version_major": 2,
       "version_minor": 0
      },
      "text/plain": [
       "  0%|          | 0/79 [00:00<?, ?it/s]"
      ]
     },
     "metadata": {},
     "output_type": "display_data"
    },
    {
     "data": {
      "application/vnd.jupyter.widget-view+json": {
       "model_id": "6125b0798021432a88bdd3613c2be7c5",
       "version_major": 2,
       "version_minor": 0
      },
      "text/plain": [
       "  0%|          | 0/79 [00:00<?, ?it/s]"
      ]
     },
     "metadata": {},
     "output_type": "display_data"
    },
    {
     "name": "stdout",
     "output_type": "stream",
     "text": [
      "loss = 0.79478\n"
     ]
    }
   ],
   "source": [
    "_DISC_EFF_STR_TO_INT = {\n",
    "    'Ineffective': 0,\n",
    "    'Adequate': 1,\n",
    "    'Effective': 2,\n",
    "}\n",
    "\n",
    "\n",
    "def _build_x(df: pd.DataFrame) -> np.ndarray:\n",
    "    x_2d_list = []\n",
    "    # disc_type_list = sorted(list(df['discourse_type'].unique()))\n",
    "    for _, row in tqdm(df.iterrows(), total=len(df)):\n",
    "        x_1d_list = []\n",
    "        for fold in range(5):\n",
    "            x_1d_list.extend([\n",
    "                float(row[f'score_ineffective_{fold}']),\n",
    "                float(row[f'score_adequate_{fold}']),\n",
    "                float(row[f'score_effective_{fold}']),\n",
    "            ])\n",
    "        # x_1d_list.extend([int(row['discourse_type'] == dt) for dt in disc_type_list])\n",
    "        x_2d_list.append(x_1d_list)\n",
    "    return np.array(x_2d_list)\n",
    "\n",
    "\n",
    "def _build_y(df: pd.DataFrame) -> np.ndarray:\n",
    "    return np.array([_DISC_EFF_STR_TO_INT[row['discourse_effectiveness']] for _, row in tqdm(df.iterrows(), total=len(df))])\n",
    "\n",
    "\n",
    "def _compute_loss(df: pd.DataFrame, y_hat: np.ndarray) -> float:\n",
    "    df = df.copy()\n",
    "    df['score_ineffective'] = y_hat[:, 0]\n",
    "    df['score_adequate'] = y_hat[:, 1]\n",
    "    df['score_effective'] = y_hat[:, 2]\n",
    "    return get_loss(df)\n",
    "\n",
    "\n",
    "def _train_logistic_regression_classifier(\n",
    "        df: pd.DataFrame,\n",
    "        save_model_to_dir: Path):\n",
    "    df = df.copy()\n",
    "    for disc_type in sorted(list(df['discourse_type'].unique())):\n",
    "        dt_df = df[df['discourse_type'] == disc_type]\n",
    "        x, y = _build_x(dt_df), _build_y(dt_df)\n",
    "        tree = LogisticRegression()\n",
    "        tree.fit(x, y)\n",
    "        y_hat = tree.predict_proba(x)\n",
    "        print(f'loss = {_compute_loss(dt_df, y_hat):.5f}')\n",
    "        with open(save_model_to_dir / f'lvl4-logistic_regression-dt_{disc_type.replace(\" \", \"_\").lower()}.pkl', 'wb') as f:\n",
    "            pickle.dump(tree, f)\n",
    "\n",
    "_train_logistic_regression_classifier(test_df, MODEL_DIR_PATH)"
   ]
  }
 ],
 "metadata": {
  "kernelspec": {
   "display_name": "Python 3.10.6 ('feedback-prize')",
   "language": "python",
   "name": "python3"
  },
  "language_info": {
   "codemirror_mode": {
    "name": "ipython",
    "version": 3
   },
   "file_extension": ".py",
   "mimetype": "text/x-python",
   "name": "python",
   "nbconvert_exporter": "python",
   "pygments_lexer": "ipython3",
   "version": "3.10.6"
  },
  "orig_nbformat": 4,
  "vscode": {
   "interpreter": {
    "hash": "d4bdb910d5a1d13cf3dadcf35b3d85c5b41073a46648bc4fa6100093e0e32196"
   }
  }
 },
 "nbformat": 4,
 "nbformat_minor": 2
}
